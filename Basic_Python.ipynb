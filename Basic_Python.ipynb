{
  "cells": [
    {
      "cell_type": "code",
      "execution_count": null,
      "metadata": {
        "id": "uoXhOlJaf4lD"
      },
      "outputs": [],
      "source": [
        "# basic python"
      ]
    },
    {
      "cell_type": "markdown",
      "metadata": {
        "id": "xNYvjCbVjSWh"
      },
      "source": [
        "<!-- 1. What is Python, and why is it popular  -->\n",
        "         Python is a high-level, versatile programming language known for its readability and ease of use. It's popular for web development, data science, machine learning, and scripting due to its simple syntax, extensive libraries, and strong community support. Python's versatility makes it a favorite among both beginners and experienced programmers across various disciplines.\n",
        "<!-- 2. What is an interpreter in Python -->\n",
        "         In Python, an interpreter is a program that directly executes Python code. Unlike compiled languages where the entire code is translated into machine code before execution, Python's interpreter processes the code line by line at runtime.\n",
        "<!-- 3. What are pre-defined keywords in Python   -->\n",
        "         In Python, predefined keywords are reserved words that have special meanings and cannot be used as variable names, function names, or any other identifiers. These keywords are used to define the syntax and structure of the language. Here are some examples of predefined keywords in Python:\n",
        "         'False', 'None', 'True', 'and', 'as', 'assert', 'async', 'await', 'break', 'class', 'continue', 'def', 'del', 'elif', 'else', 'except', 'finally', 'for', 'from', 'global', 'if', 'import', 'in', 'is', 'lambda', 'nonlocal', 'not', 'or', 'pass', 'raise', 'return', 'try', 'while', 'with', 'yield.\n",
        "<!-- 4. Can keywords be used as variable names  -->\n",
        "         No, keywords cannot be used as variable names. Keywords are reserved words in a programming language that have predefined meanings and are used to define the language's syntax and structure. Using them as variable names would lead to syntax errors because the compiler or interpreter would misinterpret them.\n",
        "<!-- 5. What is mutability in Python  -->\n",
        "         In Python, if the value of an object cannot be changed over time, then it is known as immutable. Once created, the value of these objects is permanent.This is Mutability.\n",
        "<!-- 6. Why are lists mutable, but tuples are immutable  -->\n",
        "         Tuples are immutable, meaning that once a tuple has been created, you can't replace any of its elements with a new value. Lists are mutable, meaning that you can always change a list's elements. Only immutable elements can be used as dictionary keys, and hence only tuples and not lists can be used as keys.\n",
        "<!-- 7. What is the difference between “==” and “is” operators in Python  -->\n",
        "         \"==\" operator compares the values of two objects, Whereas \"is\" operator compares the identity of two objects.\n",
        "<!-- 8.  What are logical operators in Python  -->\n",
        "         Logical operators in Python are used to combine conditional statements and evaluate expressions based on their truth values (True or False). They are crucial for creating complex decision-making logic within programs.\n",
        "<!-- 9.  What is type casting in Python  -->\n",
        "         In Python, type casting (also known as type conversion) is the process of changing the data type of a variable, expression, or value from one type to another.\n",
        "<!-- 10. What is the difference between implicit and explicit type casting  -->\n",
        "         Implicit type casting occurs when the programming language automatically converts the data type of a value without explicit instructions from the programmer whereas Explicit type casting occurs when the programmer explicitly instructs the compiler or interpreter to convert the data type of a value using a specific syntax or function.\n",
        "<!-- 11. What is the purpose of conditional statements in Python  -->\n",
        "         Purpose of Conditional Statements:\n",
        "         1. Decision-making: Conditional statements allow your program to make decisions based on inputs, user interactions, or other factors.\n",
        "         2. Code execution control: Conditional statements control which blocks of code are executed, allowing you to write more efficient and effective programs.\n",
        "         3. Error handling: Conditional statements can be used to handle errors, exceptions, and unexpected situations.\n",
        "         4. Logic implementation: Conditional statements enable you to implement logical operations, such as if-else statements, switch statements, and more.\n",
        "<!-- 12. How does the elif statement work  -->\n",
        "         The elif statement, a contraction of \"else if,\" functions within conditional control flow structures in programming languages like Python. It allows for the evaluation of multiple conditions in sequence, providing an alternative path of execution if preceding conditions are not met.\n",
        "<!-- 13. What is the difference between for and while loops  -->\n",
        "         For loops are used to iterate over a sequence (such as a list, tuple, or string) or an iterable object and While loops are used to execute a block of code repeatedly while a certain condition is true.\n",
        "<!-- 14. Describe a scenario where a while loop is more suitable than a for loop -->\n",
        "         A while loop is more suitable than a for loop in scenarios where the number of iterations is not known or predetermined before the loop begins. This contrasts with a for loop, which is typically used when iterating over a sequence of known length or a predefined range.\n",
        "\n",
        "\n"
      ]
    },
    {
      "cell_type": "markdown",
      "metadata": {
        "id": "L0g6nc7cmwHn"
      },
      "source": []
    },
    {
      "cell_type": "code",
      "execution_count": null,
      "metadata": {
        "colab": {
          "base_uri": "https://localhost:8080/"
        },
        "id": "ONQMYmRIkaTl",
        "outputId": "88a19c57-328e-4b43-be50-75f1bcb38978"
      },
      "outputs": [
        {
          "name": "stdout",
          "output_type": "stream",
          "text": [
            "Hello,World!\n"
          ]
        }
      ],
      "source": [
        "#1. Write a Python program to print \"Hello, World!\n",
        "print(\"Hello,World!\")"
      ]
    },
    {
      "cell_type": "code",
      "execution_count": null,
      "metadata": {
        "colab": {
          "base_uri": "https://localhost:8080/"
        },
        "id": "i7l6Crh8leRf",
        "outputId": "ba9b44a6-ac4b-4591-8e09-050f913a75a0"
      },
      "outputs": [
        {
          "name": "stdout",
          "output_type": "stream",
          "text": [
            "Enter your name: Soumik Saha\n",
            "Enter your age: 29\n",
            "I am Soumik Saha\n",
            "I am 29 years old.\n"
          ]
        }
      ],
      "source": [
        "#2. Write a Python program that displays your name and age\n",
        "name = input(\"Enter your name: \")\n",
        "age = int(input(\"Enter your age: \"))\n",
        "print(\"I am\", name)\n",
        "print(\"I am\", age, \"years old.\")"
      ]
    },
    {
      "cell_type": "code",
      "execution_count": null,
      "metadata": {
        "colab": {
          "base_uri": "https://localhost:8080/"
        },
        "id": "b4pxgVANvNRl",
        "outputId": "d43501c8-e71c-4816-8013-1d8a94c7b571"
      },
      "outputs": [
        {
          "name": "stdout",
          "output_type": "stream",
          "text": [
            "\n",
            "Here is a list of the Python keywords.  Enter any keyword to get more help.\n",
            "\n",
            "False               class               from                or\n",
            "None                continue            global              pass\n",
            "True                def                 if                  raise\n",
            "and                 del                 import              return\n",
            "as                  elif                in                  try\n",
            "assert              else                is                  while\n",
            "async               except              lambda              with\n",
            "await               finally             nonlocal            yield\n",
            "break               for                 not                 \n",
            "\n"
          ]
        }
      ],
      "source": [
        "#3. Write code to print all the pre-defined keywords in Python using the keyword library\n",
        "help('keywords')"
      ]
    },
    {
      "cell_type": "code",
      "execution_count": null,
      "metadata": {
        "colab": {
          "base_uri": "https://localhost:8080/"
        },
        "id": "A27_49g5ENjI",
        "outputId": "eeff6ec2-6623-4923-e76a-4d620c12cd92"
      },
      "outputs": [
        {
          "data": {
            "text/plain": [
              "True"
            ]
          },
          "execution_count": 24,
          "metadata": {},
          "output_type": "execute_result"
        }
      ],
      "source": [
        "#4. Write a program that checks if a given word is a Python keyword.\n",
        "import keyword\n",
        "keyword.iskeyword('True')"
      ]
    },
    {
      "cell_type": "code",
      "execution_count": null,
      "metadata": {
        "colab": {
          "base_uri": "https://localhost:8080/"
        },
        "id": "jkiHmcx0Jkpd",
        "outputId": "ab37347f-5aa0-41c6-833e-d9aec1fcc2af"
      },
      "outputs": [
        {
          "name": "stdout",
          "output_type": "stream",
          "text": [
            "Original List: [1, 2, 3, 4, 5]\n",
            "Original Tuple: (1, 2, 3, 4, 5)\n"
          ]
        }
      ],
      "source": [
        "#5. Create a list and tuple in Python, and demonstrate how attempting to change an element works differently for each\n",
        "# Create a list\n",
        "my_list = [1, 2, 3, 4, 5]\n",
        "print(\"Original List:\", my_list)\n",
        "\n",
        "# Create a tuple\n",
        "my_tuple = (1, 2, 3, 4, 5)\n",
        "print(\"Original Tuple:\", my_tuple)"
      ]
    },
    {
      "cell_type": "code",
      "execution_count": null,
      "metadata": {
        "id": "e-UMPF_UJkRQ"
      },
      "outputs": [],
      "source": [
        "#6. Write a function to demonstrate the behavior of mutable and immutable arguments\n",
        "'''\n",
        "In Python,\n",
        "string is immutable and list is mutable.\n",
        "'''"
      ]
    },
    {
      "cell_type": "code",
      "execution_count": null,
      "metadata": {
        "colab": {
          "base_uri": "https://localhost:8080/"
        },
        "id": "LHdNLrsYQqz-",
        "outputId": "7bd143d4-bd9f-4532-809c-fadfc135c119"
      },
      "outputs": [
        {
          "data": {
            "text/plain": [
              "11"
            ]
          },
          "execution_count": 35,
          "metadata": {},
          "output_type": "execute_result"
        }
      ],
      "source": [
        "#7. Write a program that performs basic arithmetic operations on two user-input numbers.\n",
        "a=3\n",
        "b=8\n",
        "a+b"
      ]
    },
    {
      "cell_type": "code",
      "execution_count": 42,
      "metadata": {
        "colab": {
          "base_uri": "https://localhost:8080/"
        },
        "id": "c2iI_XaqQrHY",
        "outputId": "3ffcc286-c0be-4aa7-cb79-9d6a8d324800"
      },
      "outputs": [
        {
          "output_type": "execute_result",
          "data": {
            "text/plain": [
              "True"
            ]
          },
          "metadata": {},
          "execution_count": 42
        }
      ],
      "source": [
        "#8. Write a program to demonstrate the use of logical operators.\n",
        "True or True"
      ]
    },
    {
      "cell_type": "code",
      "source": [
        "True and True"
      ],
      "metadata": {
        "colab": {
          "base_uri": "https://localhost:8080/"
        },
        "id": "K0adEY951899",
        "outputId": "df7d9240-f69f-4be4-da55-2640011310de"
      },
      "execution_count": 3,
      "outputs": [
        {
          "output_type": "execute_result",
          "data": {
            "text/plain": [
              "True"
            ]
          },
          "metadata": {},
          "execution_count": 3
        }
      ]
    },
    {
      "cell_type": "code",
      "execution_count": 6,
      "metadata": {
        "id": "RvUwAGI8QrS1",
        "colab": {
          "base_uri": "https://localhost:8080/"
        },
        "outputId": "4aa80141-cc83-4ca3-cb03-d3a3cf69f7e4"
      },
      "outputs": [
        {
          "output_type": "stream",
          "name": "stdout",
          "text": [
            "<class 'int'>\n",
            "<class 'float'>\n",
            "<class 'bool'>\n"
          ]
        }
      ],
      "source": [
        "#9. Write a Python program to convert user input from string to integer, float, and boolean types.\n",
        "soumik = \"123\" # Define the variable with a string value\n",
        "name = int(soumik)\n",
        "print(type(name))\n",
        "\n",
        "float_num = float(\"3.14\")\n",
        "print(type(float_num))\n",
        "\n",
        "bool_val = bool(\"True\")\n",
        "print(type(bool_val))"
      ]
    },
    {
      "cell_type": "code",
      "execution_count": 7,
      "metadata": {
        "id": "MmqkiYClQrdD",
        "colab": {
          "base_uri": "https://localhost:8080/"
        },
        "outputId": "9f42ef3e-c703-4a75-b75f-c58fa9d1ee0d"
      },
      "outputs": [
        {
          "output_type": "execute_result",
          "data": {
            "text/plain": [
              "11"
            ]
          },
          "metadata": {},
          "execution_count": 7
        }
      ],
      "source": [
        "#10. Write code to demonstrate type casting with list elements.\n",
        "a= \"5\"\n",
        "b= 6\n",
        "int(a)+b"
      ]
    },
    {
      "cell_type": "code",
      "execution_count": 11,
      "metadata": {
        "id": "byrkuhhAQrlj"
      },
      "outputs": [],
      "source": [
        "#11.Write a program that checks if a number is positive, negative, or zero.\n",
        "def check_number_type(number):\n",
        "  if number > 0:\n",
        "    print(f\"{number} is a positive number.\")\n",
        "  elif number < 0:\n",
        "    print(f\"{number} is a negative number.\")\n",
        "  else:\n",
        "    print(f\"{number} is zero.\")\n"
      ]
    },
    {
      "cell_type": "code",
      "execution_count": 9,
      "metadata": {
        "id": "ZUljOWB-QrtE",
        "colab": {
          "base_uri": "https://localhost:8080/"
        },
        "outputId": "be21ee89-90e4-4b9e-c71c-7b534b40056a"
      },
      "outputs": [
        {
          "output_type": "stream",
          "name": "stdout",
          "text": [
            "1\n",
            "2\n",
            "3\n",
            "4\n",
            "5\n",
            "6\n",
            "7\n",
            "8\n",
            "9\n",
            "10\n"
          ]
        }
      ],
      "source": [
        "#12.Write a for loop to print numbers from 1 to 10.\n",
        "for i in range(1, 11):\n",
        "    print(i)"
      ]
    },
    {
      "cell_type": "code",
      "execution_count": 16,
      "metadata": {
        "id": "gHHYfNGpQr0y",
        "colab": {
          "base_uri": "https://localhost:8080/"
        },
        "outputId": "77420358-6247-45b3-f351-ae2e3bd4a05f"
      },
      "outputs": [
        {
          "output_type": "execute_result",
          "data": {
            "text/plain": [
              "650"
            ]
          },
          "metadata": {},
          "execution_count": 16
        }
      ],
      "source": [
        "#13. Write a Python program to find the sum of all even numbers between 1 and 50.\n",
        "list(range(0,51,2))\n",
        "sum(list(range(0,51,2)))"
      ]
    },
    {
      "cell_type": "code",
      "execution_count": 18,
      "metadata": {
        "id": "drbCB4r9Qr8k",
        "colab": {
          "base_uri": "https://localhost:8080/"
        },
        "outputId": "7b746d43-99d5-4ec6-af7e-dafca3f8f0c2"
      },
      "outputs": [
        {
          "output_type": "stream",
          "name": "stdout",
          "text": [
            "Enter a string: hello\n",
            "Reversed string: olleh\n"
          ]
        }
      ],
      "source": [
        "#14. Write a program to reverse a string using a while loop.\n",
        "def reverse_string(input_str):\n",
        "  \"\"\"Reverses a string using a while loop.\"\"\"\n",
        "  reversed_str = \"\"\n",
        "  index = len(input_str) - 1\n",
        "  while index >= 0:\n",
        "    reversed_str += input_str[index]\n",
        "    index -= 1\n",
        "  return reversed_str\n",
        "\n",
        "input_str = input(\"Enter a string: \")\n",
        "reversed_str = reverse_string(input_str)\n",
        "print(\"Reversed string:\", reversed_str)"
      ]
    },
    {
      "cell_type": "code",
      "execution_count": 23,
      "metadata": {
        "id": "bue1bR2ZQsHP",
        "colab": {
          "base_uri": "https://localhost:8080/"
        },
        "outputId": "764ed7ce-6099-4ab6-95d7-6d124065b61a"
      },
      "outputs": [
        {
          "output_type": "stream",
          "name": "stdout",
          "text": [
            "Enter a non-negative integer: 4\n",
            "The factorial of 4 is: 24\n"
          ]
        }
      ],
      "source": [
        "#15.Write a Python program to calculate the factorial of a number provided by the user using a while loop\n",
        "def calculate_factorial(num):\n",
        "\n",
        "    factorial = 1\n",
        "    i = 1\n",
        "    while i <= num:\n",
        "        factorial *= i\n",
        "        i += 1\n",
        "    return factorial\n",
        "num = int(input(\"Enter a non-negative integer: \"))\n",
        "if num < 0:\n",
        "    print(\"Error: Factorial is not defined for negative numbers.\")\n",
        "else:\n",
        "    # Calculate and print the factorial\n",
        "    factorial = calculate_factorial(num)\n",
        "    print(f\"The factorial of {num} is: {factorial}\")"
      ]
    }
  ],
  "metadata": {
    "colab": {
      "provenance": []
    },
    "kernelspec": {
      "display_name": "Python 3",
      "name": "python3"
    },
    "language_info": {
      "name": "python"
    }
  },
  "nbformat": 4,
  "nbformat_minor": 0
}